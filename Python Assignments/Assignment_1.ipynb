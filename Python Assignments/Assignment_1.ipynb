{
 "cells": [
  {
   "cell_type": "code",
   "execution_count": 1,
   "metadata": {},
   "outputs": [
    {
     "name": "stdout",
     "output_type": "stream",
     "text": [
      "Please enter your age: sd\n",
      "Sorry, please enter the number as an integer.\n",
      "Please enter your age: 22\n"
     ]
    }
   ],
   "source": [
    "# Salvatore D'Acunto | Joe Heesacker | Jenna Swanson | Terrence White - Assignment 1\n",
    "# Get Users Age\n",
    "while True:\n",
    "    try:\n",
    "        age = int(input(\"Please enter your age: \"))\n",
    "    except ValueError:\n",
    "        print(\"Sorry, please enter the number as an integer.\")\n",
    "        continue\n",
    "    else:\n",
    "        break"
   ]
  },
  {
   "cell_type": "code",
   "execution_count": 2,
   "metadata": {},
   "outputs": [
    {
     "name": "stdout",
     "output_type": "stream",
     "text": [
      "What would you like to drink?: Vodka\n",
      "You will be drinking Vodka.\n"
     ]
    }
   ],
   "source": [
    "# Check users age and get drink\n",
    "if age < 21:\n",
    "    print(\"You will be drinking apple juice.\")\n",
    "else:\n",
    "    drink = (input(\"What would you like to drink?: \"))\n",
    "    print(\"You will be drinking \" + drink + \".\")"
   ]
  }
 ],
 "metadata": {
  "kernelspec": {
   "display_name": "Python 3",
   "language": "python",
   "name": "python3"
  },
  "language_info": {
   "codemirror_mode": {
    "name": "ipython",
    "version": 3
   },
   "file_extension": ".py",
   "mimetype": "text/x-python",
   "name": "python",
   "nbconvert_exporter": "python",
   "pygments_lexer": "ipython3",
   "version": "3.7.3"
  }
 },
 "nbformat": 4,
 "nbformat_minor": 2
}
