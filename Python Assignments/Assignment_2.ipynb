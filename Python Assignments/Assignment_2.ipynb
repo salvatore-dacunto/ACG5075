{
 "cells": [
  {
   "cell_type": "code",
   "execution_count": 1,
   "metadata": {},
   "outputs": [
    {
     "name": "stdout",
     "output_type": "stream",
     "text": [
      "Please enter a positive integer: sd\n",
      "Sorry, please enter the number as an integer.\n",
      "Please enter a positive integer: -5\n",
      "Input must be a positive integer, try again.\n",
      "Please enter a positive integer: 145\n"
     ]
    }
   ],
   "source": [
    "# Salvatore D'Acunto | Joe Heesacker | Jenna Swanson | Terrence White - Assignment 2\n",
    "\n",
    "while True:\n",
    "    try:\n",
    "        number = int(input(\"Please enter a positive integer: \"))\n",
    "        if number < 0:\n",
    "            print(\"Input must be a positive integer, try again.\")\n",
    "            continue\n",
    "    except ValueError:\n",
    "        print(\"Sorry, please enter the number as an integer.\")\n",
    "        continue\n",
    "    else:\n",
    "        break"
   ]
  },
  {
   "cell_type": "code",
   "execution_count": 2,
   "metadata": {},
   "outputs": [
    {
     "name": "stdout",
     "output_type": "stream",
     "text": [
      "[1, 5, 29, 145]\n"
     ]
    }
   ],
   "source": [
    "factors = []\n",
    "for i in range(number):\n",
    "    if number%(i+1) == 0: factors.append(i+1)\n",
    "print(factors)"
   ]
  }
 ],
 "metadata": {
  "kernelspec": {
   "display_name": "Python 3",
   "language": "python",
   "name": "python3"
  },
  "language_info": {
   "codemirror_mode": {
    "name": "ipython",
    "version": 3
   },
   "file_extension": ".py",
   "mimetype": "text/x-python",
   "name": "python",
   "nbconvert_exporter": "python",
   "pygments_lexer": "ipython3",
   "version": "3.7.3"
  }
 },
 "nbformat": 4,
 "nbformat_minor": 2
}
