{
 "cells": [
  {
   "cell_type": "code",
   "execution_count": 1,
   "metadata": {},
   "outputs": [
    {
     "name": "stdout",
     "output_type": "stream",
     "text": [
      "I guess you think you know this story.\n",
      "You don't. The real one's much more gory.\n",
      "The phoney one, the one you know,\n",
      "Was cooked up years and years ago,\n",
      "And made to sound all soft and sappy\n"
     ]
    }
   ],
   "source": [
    "# Salvatore D'Acunto | Joe Heesacker | Jenna Swanson | Terrence White - Assignment 4\n",
    "\n",
    "# this assumes that the file 'cinderella.txt' is in the same folder as your ipynb script \n",
    "fname = \"cinderella.txt\"\n",
    "with open(fname) as f:\n",
    "    content = f.readlines()\n",
    "# you may also want to remove whitespace characters like `\\n` at the end of each line\n",
    "content = [x.strip() for x in content]\n",
    "\n",
    "# print the first few lines\n",
    "for line in content[0:5]:\n",
    "\tprint(line)"
   ]
  },
  {
   "cell_type": "code",
   "execution_count": 2,
   "metadata": {},
   "outputs": [
    {
     "name": "stdout",
     "output_type": "stream",
     "text": [
      "128\n"
     ]
    }
   ],
   "source": [
    "line_count = len(content)\n",
    "print(line_count)"
   ]
  },
  {
   "cell_type": "code",
   "execution_count": 3,
   "metadata": {},
   "outputs": [
    {
     "name": "stdout",
     "output_type": "stream",
     "text": [
      "827\n"
     ]
    }
   ],
   "source": [
    "word_count = 0\n",
    "for x in content:\n",
    "    word_count = len(x.split()) + word_count\n",
    "print(word_count)"
   ]
  },
  {
   "cell_type": "code",
   "execution_count": 4,
   "metadata": {},
   "outputs": [
    {
     "name": "stdout",
     "output_type": "stream",
     "text": [
      "15\n"
     ]
    }
   ],
   "source": [
    "prince_count = 0\n",
    "for x in content:\n",
    "    if 'Prince' in x:\n",
    "        prince_count = prince_count + 1\n",
    "print(prince_count)\n",
    "    "
   ]
  },
  {
   "cell_type": "code",
   "execution_count": 5,
   "metadata": {},
   "outputs": [
    {
     "name": "stdout",
     "output_type": "stream",
     "text": [
      "6\n"
     ]
    }
   ],
   "source": [
    "cried_count = 0\n",
    "for x in content:\n",
    "    if 'cried' in x:\n",
    "        cried_count = cried_count + 1\n",
    "print(cried_count)"
   ]
  },
  {
   "cell_type": "code",
   "execution_count": 7,
   "metadata": {},
   "outputs": [],
   "source": [
    "file = open('cinderella_encrypted.txt','w')\n",
    "\n",
    "for x in content:\n",
    "    message = ''.join(chr(ord(letter)+3) for letter in x)\n",
    "    file.write(message)"
   ]
  },
  {
   "cell_type": "code",
   "execution_count": null,
   "metadata": {},
   "outputs": [],
   "source": []
  }
 ],
 "metadata": {
  "kernelspec": {
   "display_name": "Python 3",
   "language": "python",
   "name": "python3"
  },
  "language_info": {
   "codemirror_mode": {
    "name": "ipython",
    "version": 3
   },
   "file_extension": ".py",
   "mimetype": "text/x-python",
   "name": "python",
   "nbconvert_exporter": "python",
   "pygments_lexer": "ipython3",
   "version": "3.7.3"
  }
 },
 "nbformat": 4,
 "nbformat_minor": 2
}
