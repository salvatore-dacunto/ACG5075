{
 "cells": [
  {
   "cell_type": "code",
   "execution_count": 1,
   "metadata": {},
   "outputs": [
    {
     "name": "stdout",
     "output_type": "stream",
     "text": [
      "S1 = $ 12893.4\n",
      "S2 = $ 19289.34\n"
     ]
    }
   ],
   "source": [
    "# Salvatore D'Acunto | Joe Heesacker | Jenna Swanson | Terrence White - Assignment 6\n",
    "\n",
    "import numpy as np\n",
    "\n",
    "# Solving following system of linear equation\n",
    "# 10,000 + 0.15*S2 = S1 >>> S1 - 0.15*S2 = 10,000\n",
    "# 18,000 + 0.10*S1 = S2 >>> - 0.10*S1 + S2 = 18,000\n",
    "\n",
    "a = np.array([[1, -0.15],[-0.1,1]])\n",
    "b = np.array([10000, 18000])\n",
    "\n",
    "answer=np.linalg.solve(a,b)\n",
    "answer=np.round(answer,2)\n",
    "print(\"S1 = $\", answer[0])\n",
    "print(\"S2 = $\", answer[1])\n"
   ]
  }
 ],
 "metadata": {
  "kernelspec": {
   "display_name": "Python 3",
   "language": "python",
   "name": "python3"
  },
  "language_info": {
   "codemirror_mode": {
    "name": "ipython",
    "version": 3
   },
   "file_extension": ".py",
   "mimetype": "text/x-python",
   "name": "python",
   "nbconvert_exporter": "python",
   "pygments_lexer": "ipython3",
   "version": "3.7.3"
  }
 },
 "nbformat": 4,
 "nbformat_minor": 2
}
