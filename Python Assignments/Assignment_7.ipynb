{
 "cells": [
  {
   "cell_type": "code",
   "execution_count": 1,
   "metadata": {},
   "outputs": [
    {
     "name": "stdout",
     "output_type": "stream",
     "text": [
      "da8f5f1b9dba41ebc2d79591840fa3e9188b96b7750c230dbc4b02b29864c1ec\n"
     ]
    }
   ],
   "source": [
    "# Salvatore D'Acunto | Joe Heesacker | Jenna Swanson | Terrence White - Assignment 7\n",
    "\n",
    "# Part A\n",
    "\n",
    "import hashlib # library with hashing functions \n",
    "\n",
    "with open(\"cinderella.txt\", 'r') as file:\n",
    "    data = file.read()#.replace('\\n', ' ')\n",
    "\n",
    "data = data.encode()\n",
    "\n",
    "print (hashlib.sha256(data).hexdigest())"
   ]
  },
  {
   "cell_type": "code",
   "execution_count": 2,
   "metadata": {},
   "outputs": [],
   "source": [
    "# Part B\n",
    "\n",
    "import rsa \n",
    "import base64\n",
    "\n",
    "message1 = 'Simon says: Clap your hands!'\n",
    "message2 = 'Simon says: Study more cost!'\n",
    "message3 = 'Simon says: Jump around!'\n",
    "\n",
    "message1=message1.encode()\n",
    "message2=message2.encode()\n",
    "message3=message3.encode()\n",
    "\n",
    "simon_pub = \"\"\"\n",
    "-----BEGIN RSA PUBLIC KEY-----\n",
    "MIIBCgKCAQEAkO7AAOh+h030CzGdGYcICA98dKeH6yCfjbGVLARSC4eno8br9Fxv8EsYVf9WANMEZbt9F/5ukY5qTyC/y8MfGTdWdQ9OAk+o7UyHga090OpDp/B7XjyFGBzCvN1nQ8MM94O/rQUn+PtbkhwrZE+gVRlaUrJbT+UHb8A5gQNJHuXiPMGBZyjE5+od7SBQNiQyFAk56x5C6pJMansxzSDc4qUFG+M/suwKyOPoJ+aZ75RMzmrIxgXXNriJfU/sP5DE4KCn11UTb2VblHsjbSNkfCaArdIqpX6q2M51dm7AQpNbQpJLFXtnCX6mB7CDpYausMlavKzPuO6fprulmSUkDwIDAQAB\n",
    "-----END RSA PUBLIC KEY-----\n",
    "\"\"\"\n",
    "\n",
    "msg_signature =\"YR7eA2aj6A6oh5R2nWX07zckZm/E+OFO8cxHVOIB2XMvP//bBbwSPP6wRwgu1W1WyZfHWhSx9nuG8KuO6r3jHOtad6LwqlXQtIt/UBfFX6FcLqqpudkitgBpmfxRLfilA+1/LQvg9/QAMxSBeesS/ZmD/3oOo8AlNtMKrJJch6fGyaNa6vL6yCa9pSRJD5khvuTNzfFGJyqRE5iFWdFOtQZwaQI8/g1VXU3Zev0gXL2qSFT4BPGPV7P33W+hX1yx4AoDX/wV94/thD3CohE0Ph3Hr7bcjz/FlGD+uIqGeB9omMnH4GbliqPxf6mvhJHq2o6z++7+5mvgAPetxt1uTw==\"\n",
    "\n",
    "msg_sig_bytes = base64.b64decode(msg_signature)\n",
    "\n",
    "#m1_bytes = base64.b64decode(message1)\n",
    "#m2_bytes = base64.b64decode(message2)\n",
    "#m3_bytes = base64.b64decode(message3)\n",
    "\n",
    "simon_pub_der = \"MIIBCgKCAQEAkO7AAOh+h030CzGdGYcICA98dKeH6yCfjbGVLARSC4eno8br9Fxv8EsYVf9WANMEZbt9F/5ukY5qTyC/y8MfGTdWdQ9OAk+o7UyHga090OpDp/B7XjyFGBzCvN1nQ8MM94O/rQUn+PtbkhwrZE+gVRlaUrJbT+UHb8A5gQNJHuXiPMGBZyjE5+od7SBQNiQyFAk56x5C6pJMansxzSDc4qUFG+M/suwKyOPoJ+aZ75RMzmrIxgXXNriJfU/sP5DE4KCn11UTb2VblHsjbSNkfCaArdIqpX6q2M51dm7AQpNbQpJLFXtnCX6mB7CDpYausMlavKzPuO6fprulmSUkDwIDAQAB\"\n",
    "\n",
    "simon_pub = rsa.key.PublicKey.load_pkcs1( base64.standard_b64decode (simon_pub_der.encode() ), 'DER')"
   ]
  },
  {
   "cell_type": "code",
   "execution_count": 3,
   "metadata": {},
   "outputs": [
    {
     "ename": "VerificationError",
     "evalue": "Verification failed",
     "output_type": "error",
     "traceback": [
      "\u001b[0;31m---------------------------------------------------------------------------\u001b[0m",
      "\u001b[0;31mVerificationError\u001b[0m                         Traceback (most recent call last)",
      "\u001b[0;32m<ipython-input-3-27e8ef7e6229>\u001b[0m in \u001b[0;36m<module>\u001b[0;34m\u001b[0m\n\u001b[0;32m----> 1\u001b[0;31m \u001b[0mrsa\u001b[0m\u001b[0;34m.\u001b[0m\u001b[0mverify\u001b[0m\u001b[0;34m(\u001b[0m\u001b[0mmessage1\u001b[0m\u001b[0;34m,\u001b[0m \u001b[0mmsg_sig_bytes\u001b[0m\u001b[0;34m,\u001b[0m \u001b[0msimon_pub\u001b[0m\u001b[0;34m)\u001b[0m\u001b[0;34m\u001b[0m\u001b[0;34m\u001b[0m\u001b[0m\n\u001b[0m",
      "\u001b[0;32m~/anaconda3/lib/python3.7/site-packages/rsa/pkcs1.py\u001b[0m in \u001b[0;36mverify\u001b[0;34m(message, signature, pub_key)\u001b[0m\n\u001b[1;32m    334\u001b[0m     \u001b[0;31m# Compare with the signed one\u001b[0m\u001b[0;34m\u001b[0m\u001b[0;34m\u001b[0m\u001b[0;34m\u001b[0m\u001b[0m\n\u001b[1;32m    335\u001b[0m     \u001b[0;32mif\u001b[0m \u001b[0mexpected\u001b[0m \u001b[0;34m!=\u001b[0m \u001b[0mclearsig\u001b[0m\u001b[0;34m:\u001b[0m\u001b[0;34m\u001b[0m\u001b[0;34m\u001b[0m\u001b[0m\n\u001b[0;32m--> 336\u001b[0;31m         \u001b[0;32mraise\u001b[0m \u001b[0mVerificationError\u001b[0m\u001b[0;34m(\u001b[0m\u001b[0;34m'Verification failed'\u001b[0m\u001b[0;34m)\u001b[0m\u001b[0;34m\u001b[0m\u001b[0;34m\u001b[0m\u001b[0m\n\u001b[0m\u001b[1;32m    337\u001b[0m \u001b[0;34m\u001b[0m\u001b[0m\n\u001b[1;32m    338\u001b[0m     \u001b[0;32mreturn\u001b[0m \u001b[0mmethod_name\u001b[0m\u001b[0;34m\u001b[0m\u001b[0;34m\u001b[0m\u001b[0m\n",
      "\u001b[0;31mVerificationError\u001b[0m: Verification failed"
     ]
    }
   ],
   "source": [
    "rsa.verify(message1, msg_sig_bytes, simon_pub)"
   ]
  },
  {
   "cell_type": "code",
   "execution_count": 4,
   "metadata": {},
   "outputs": [
    {
     "ename": "VerificationError",
     "evalue": "Verification failed",
     "output_type": "error",
     "traceback": [
      "\u001b[0;31m---------------------------------------------------------------------------\u001b[0m",
      "\u001b[0;31mVerificationError\u001b[0m                         Traceback (most recent call last)",
      "\u001b[0;32m<ipython-input-4-56401c8de35b>\u001b[0m in \u001b[0;36m<module>\u001b[0;34m\u001b[0m\n\u001b[0;32m----> 1\u001b[0;31m \u001b[0mrsa\u001b[0m\u001b[0;34m.\u001b[0m\u001b[0mverify\u001b[0m\u001b[0;34m(\u001b[0m\u001b[0mmessage2\u001b[0m\u001b[0;34m,\u001b[0m \u001b[0mmsg_sig_bytes\u001b[0m\u001b[0;34m,\u001b[0m \u001b[0msimon_pub\u001b[0m\u001b[0;34m)\u001b[0m\u001b[0;34m\u001b[0m\u001b[0;34m\u001b[0m\u001b[0m\n\u001b[0m",
      "\u001b[0;32m~/anaconda3/lib/python3.7/site-packages/rsa/pkcs1.py\u001b[0m in \u001b[0;36mverify\u001b[0;34m(message, signature, pub_key)\u001b[0m\n\u001b[1;32m    334\u001b[0m     \u001b[0;31m# Compare with the signed one\u001b[0m\u001b[0;34m\u001b[0m\u001b[0;34m\u001b[0m\u001b[0;34m\u001b[0m\u001b[0m\n\u001b[1;32m    335\u001b[0m     \u001b[0;32mif\u001b[0m \u001b[0mexpected\u001b[0m \u001b[0;34m!=\u001b[0m \u001b[0mclearsig\u001b[0m\u001b[0;34m:\u001b[0m\u001b[0;34m\u001b[0m\u001b[0;34m\u001b[0m\u001b[0m\n\u001b[0;32m--> 336\u001b[0;31m         \u001b[0;32mraise\u001b[0m \u001b[0mVerificationError\u001b[0m\u001b[0;34m(\u001b[0m\u001b[0;34m'Verification failed'\u001b[0m\u001b[0;34m)\u001b[0m\u001b[0;34m\u001b[0m\u001b[0;34m\u001b[0m\u001b[0m\n\u001b[0m\u001b[1;32m    337\u001b[0m \u001b[0;34m\u001b[0m\u001b[0m\n\u001b[1;32m    338\u001b[0m     \u001b[0;32mreturn\u001b[0m \u001b[0mmethod_name\u001b[0m\u001b[0;34m\u001b[0m\u001b[0;34m\u001b[0m\u001b[0m\n",
      "\u001b[0;31mVerificationError\u001b[0m: Verification failed"
     ]
    }
   ],
   "source": [
    "rsa.verify(message2, msg_sig_bytes, simon_pub)"
   ]
  },
  {
   "cell_type": "code",
   "execution_count": 5,
   "metadata": {},
   "outputs": [
    {
     "data": {
      "text/plain": [
       "'SHA-1'"
      ]
     },
     "execution_count": 5,
     "metadata": {},
     "output_type": "execute_result"
    }
   ],
   "source": [
    "rsa.verify(message3, msg_sig_bytes, simon_pub)"
   ]
  }
 ],
 "metadata": {
  "kernelspec": {
   "display_name": "Python 3",
   "language": "python",
   "name": "python3"
  },
  "language_info": {
   "codemirror_mode": {
    "name": "ipython",
    "version": 3
   },
   "file_extension": ".py",
   "mimetype": "text/x-python",
   "name": "python",
   "nbconvert_exporter": "python",
   "pygments_lexer": "ipython3",
   "version": "3.7.3"
  }
 },
 "nbformat": 4,
 "nbformat_minor": 2
}
