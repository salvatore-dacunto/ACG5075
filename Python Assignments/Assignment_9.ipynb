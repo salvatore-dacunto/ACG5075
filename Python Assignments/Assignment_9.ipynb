{
 "cells": [
  {
   "cell_type": "code",
   "execution_count": 1,
   "metadata": {},
   "outputs": [
    {
     "data": {
      "text/plain": [
       "[0.3010299956639812,\n",
       " 0.17609125905568124,\n",
       " 0.12493873660829993,\n",
       " 0.09691001300805642,\n",
       " 0.07918124604762482,\n",
       " 0.06694678963061322,\n",
       " 0.05799194697768673,\n",
       " 0.05115252244738129,\n",
       " 0.04575749056067514]"
      ]
     },
     "execution_count": 1,
     "metadata": {},
     "output_type": "execute_result"
    }
   ],
   "source": [
    "# Salvatore D'Acunto | Joe Heesacker | Jenna Swanson | Terrence White - Assignment 9\n",
    "\n",
    "import math\n",
    "\n",
    "def mostSig(x):\n",
    "\t# turn number to string, and take the first character, then transform back to integer\n",
    "\treturn int(str(x)[0]) \n",
    "\n",
    "benford = [math.log10(1 + 1/i) for i in range(1, 10)]\n",
    "#benford` will hold a list:\n",
    "\n",
    "benford"
   ]
  },
  {
   "cell_type": "code",
   "execution_count": 2,
   "metadata": {},
   "outputs": [
    {
     "data": {
      "text/plain": [
       "numpy.ndarray"
      ]
     },
     "execution_count": 2,
     "metadata": {},
     "output_type": "execute_result"
    }
   ],
   "source": [
    "import numpy as np\n",
    "data = np.loadtxt('salesdata.txt')\n",
    "n = len(data)\n",
    "type(data)"
   ]
  },
  {
   "cell_type": "code",
   "execution_count": 3,
   "metadata": {},
   "outputs": [
    {
     "data": {
      "text/plain": [
       "[0.04610165944717259,\n",
       " 0.038281668416702073,\n",
       " 0.03323151855216743,\n",
       " 0.029732555769632223,\n",
       " 0.02713817548968226,\n",
       " 0.02511889244099547,\n",
       " 0.023490570010719712,\n",
       " 0.022141861695438206,\n",
       " 0.0210011405698595]"
      ]
     },
     "execution_count": 3,
     "metadata": {},
     "output_type": "execute_result"
    }
   ],
   "source": [
    "std = [(benford[i]*(1-benford[i])/n)**(1/2) for i in range(0,9)]\n",
    "std"
   ]
  },
  {
   "cell_type": "code",
   "execution_count": 4,
   "metadata": {},
   "outputs": [
    {
     "data": {
      "text/plain": [
       "[0.25252525252525254,\n",
       " 0.12121212121212122,\n",
       " 0.15151515151515152,\n",
       " 0.0707070707070707,\n",
       " 0.15151515151515152,\n",
       " 0.0707070707070707,\n",
       " 0.04040404040404041,\n",
       " 0.06060606060606061]"
      ]
     },
     "execution_count": 4,
     "metadata": {},
     "output_type": "execute_result"
    }
   ],
   "source": [
    "q = np.array([])\n",
    "\n",
    "for x in data:\n",
    "    y = mostSig(x)\n",
    "    q = np.append(q, y)\n",
    "    \n",
    "unique, counts = np.unique(q, return_counts=True)\n",
    "c=dict(zip(unique, counts))\n",
    "po = [c[i]/n for i in range(1,9)]\n",
    "po"
   ]
  },
  {
   "cell_type": "code",
   "execution_count": 5,
   "metadata": {},
   "outputs": [
    {
     "data": {
      "text/plain": [
       "[0.9425742719308698,\n",
       " 1.301631690935263,\n",
       " 0.6477558292304572,\n",
       " 0.7114234448720016,\n",
       " 2.47928975338089,\n",
       " -0.051364684055171486,\n",
       " 0.5337206171421103,\n",
       " 0.19885559618870732]"
      ]
     },
     "execution_count": 5,
     "metadata": {},
     "output_type": "execute_result"
    }
   ],
   "source": [
    "z = [(abs(po[i]-benford[i])-(1/(2*n)))/std[i] for i in range (0,8)]\n",
    "z"
   ]
  },
  {
   "cell_type": "code",
   "execution_count": 6,
   "metadata": {},
   "outputs": [
    {
     "data": {
      "text/plain": [
       "[False, False, False, False, True, False, False, False]"
      ]
     },
     "execution_count": 6,
     "metadata": {},
     "output_type": "execute_result"
    }
   ],
   "source": [
    "fraud = []\n",
    "for i in range (0,8):\n",
    "    if abs(z[i]) > 1.96:\n",
    "        fraud.append(True)\n",
    "    else:\n",
    "        fraud.append(False)\n",
    "fraud"
   ]
  },
  {
   "cell_type": "code",
   "execution_count": 7,
   "metadata": {},
   "outputs": [
    {
     "name": "stdout",
     "output_type": "stream",
     "text": [
      "At lease one digit deviates from Benford's Law. Fraud may be an issue.\n"
     ]
    }
   ],
   "source": [
    "if any(fraud):\n",
    "    print(\"At lease one digit deviates from Benford's Law. Fraud may be an issue.\")\n",
    "else:\n",
    "    print(\"An analysis of Benford's Law does not show fraud.\")"
   ]
  }
 ],
 "metadata": {
  "kernelspec": {
   "display_name": "Python 3",
   "language": "python",
   "name": "python3"
  },
  "language_info": {
   "codemirror_mode": {
    "name": "ipython",
    "version": 3
   },
   "file_extension": ".py",
   "mimetype": "text/x-python",
   "name": "python",
   "nbconvert_exporter": "python",
   "pygments_lexer": "ipython3",
   "version": "3.7.3"
  }
 },
 "nbformat": 4,
 "nbformat_minor": 2
}
